{
 "cells": [
  {
   "cell_type": "code",
   "execution_count": null,
   "metadata": {},
   "outputs": [],
   "source": [
    "# IGNORE THIS :3\n",
    "import os\n",
    "from geode import Geode,globals\n",
    "G = Geode(exec_api = os.environ['EXECUTION_API'], cons_key = os.environ['CONSENSUS_KEY'])\n",
    "Portal = G.Portal\n",
    "pid = Portal.functions.allIdsByType(globals.ID_TYPE.POOL, 1).call()\n",
    "myPool = Portal.pool(pid)\n",
    "# IGNORE THIS :3"
   ]
  },
  {
   "attachments": {},
   "cell_type": "markdown",
   "metadata": {},
   "source": [
    "# Tracking Validators"
   ]
  },
  {
   "attachments": {},
   "cell_type": "markdown",
   "metadata": {},
   "source": [
    "## Get a validator object from Pool"
   ]
  },
  {
   "cell_type": "code",
   "execution_count": null,
   "metadata": {},
   "outputs": [],
   "source": [
    "# no errors, \"0x\" means 'out of bounds' for the validators array on the Isolated Storage of the given ID (pool).\n",
    "myVal = myPool.validators(0) "
   ]
  },
  {
   "attachments": {},
   "cell_type": "markdown",
   "metadata": {},
   "source": [
    "### Reading validator data from Portal"
   ]
  },
  {
   "cell_type": "code",
   "execution_count": null,
   "metadata": {},
   "outputs": [],
   "source": [
    "print(\"state:\",myVal.state)\n",
    "print(\"index:\",myVal.index)\n",
    "print(\"poolId:\",myVal.poolId)\n",
    "print(\"operatorId:\",myVal.operatorId)\n",
    "print(\"poolFee:\",myVal.poolFee)\n",
    "print(\"operatorFee:\",myVal.operatorFee)\n",
    "print(\"earlyExitFee:\",myVal.earlyExitFee)\n",
    "print(\"createdAt:\",myVal.createdAt)\n",
    "print(\"expectedExit:\",myVal.expectedExit)\n",
    "\n",
    "print(\"signature31:\",myVal.signature31)"
   ]
  },
  {
   "attachments": {},
   "cell_type": "markdown",
   "metadata": {},
   "source": [
    "### Reading validator data from beaconcha.in"
   ]
  },
  {
   "cell_type": "code",
   "execution_count": null,
   "metadata": {},
   "outputs": [],
   "source": [
    "# these calls will fail if validator is not actively staking\n",
    "\n",
    "print(\"activationeligibilityepoch:\",myVal.activationEligibilityEpoch)\n",
    "print(\"activationepoch:\",myVal.activationEpoch)\n",
    "print(\"balance:\",myVal.balance)\n",
    "print(\"effectivebalance:\",myVal.effectiveBalance)\n",
    "print(\"exitepoch:\",myVal.exitepoch)\n",
    "print(\"lastattestationslot:\",myVal.lastAttestationSlot)\n",
    "print(\"slashed:\",myVal.slashed)\n",
    "print(\"status:\",myVal.status)\n",
    "print(\"validatorindex:\",myVal.validatorIndex)\n",
    "print(\"withdrawableepoch:\",myVal.withdrawableEpoch)\n",
    "print(\"withdrawalcredentials:\",myVal.withdrawalCredentials)\n",
    "print(\"total_withdrawals:\",myVal.totalWithdrawals)"
   ]
  },
  {
   "attachments": {},
   "cell_type": "markdown",
   "metadata": {},
   "source": [
    "## Alternatively,\n",
    "read validator details directly from Portal with a pubkey."
   ]
  },
  {
   "cell_type": "code",
   "execution_count": null,
   "metadata": {},
   "outputs": [],
   "source": [
    "pubkey=\"0x9326f6c07f8abd082ef82b19279cbba7616b0395fb947d50cd2d5fef303dd613abe31087077a67faa477c0631cc7228d\"\n",
    "Portal.functions.getValidator(pubkey).call()"
   ]
  },
  {
   "cell_type": "code",
   "execution_count": null,
   "metadata": {},
   "outputs": [],
   "source": []
  }
 ],
 "metadata": {
  "kernelspec": {
   "display_name": "venv",
   "language": "python",
   "name": "python3"
  },
  "language_info": {
   "codemirror_mode": {
    "name": "ipython",
    "version": 3
   },
   "file_extension": ".py",
   "mimetype": "text/x-python",
   "name": "python",
   "nbconvert_exporter": "python",
   "pygments_lexer": "ipython3",
   "version": "3.9.6 (default, Oct 18 2022, 12:41:40) \n[Clang 14.0.0 (clang-1400.0.29.202)]"
  },
  "orig_nbformat": 4,
  "vscode": {
   "interpreter": {
    "hash": "b1b6c5072c5a50f6d2400b07d553322444e3342f0da0ae61087b066e28ec204a"
   }
  }
 },
 "nbformat": 4,
 "nbformat_minor": 2
}
